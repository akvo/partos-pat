{
 "cells": [
  {
   "cell_type": "code",
   "execution_count": 1,
   "metadata": {},
   "outputs": [],
   "source": [
    "import pandas as pd\n",
    "import json"
   ]
  },
  {
   "cell_type": "code",
   "execution_count": 2,
   "metadata": {},
   "outputs": [],
   "source": [
    "df = pd.read_csv(\"./i18n.csv\")"
   ]
  },
  {
   "cell_type": "code",
   "execution_count": 3,
   "metadata": {},
   "outputs": [],
   "source": [
    "df[\"keys\"] = df[\"definition\"].apply(lambda x: x.split('.'))"
   ]
  },
  {
   "cell_type": "code",
   "execution_count": 4,
   "metadata": {},
   "outputs": [],
   "source": [
    "keys_len = df[\"keys\"].apply(len).sort_values(ascending=False).iloc[0]"
   ]
  },
  {
   "cell_type": "code",
   "execution_count": 5,
   "metadata": {},
   "outputs": [],
   "source": [
    "parents = []\n",
    "for k in range(keys_len):\n",
    "    parent = f\"parent_{k+1}\"\n",
    "    parents.append(parent)\n",
    "    df[parent] = df[\"keys\"].apply(lambda x: x[k])"
   ]
  },
  {
   "cell_type": "code",
   "execution_count": 6,
   "metadata": {},
   "outputs": [],
   "source": [
    "# Create a new column that uses \"FR correction\" if available, otherwise \"fr\"\n",
    "df[\"fr_final\"] = df[\"FR correction\"].fillna(df[\"fr\"])\n",
    "\n",
    "columns = parents\n",
    "df_en = df[columns + [\"en\"]]\n",
    "df_fr = df[columns + [\"fr_final\"]]"
   ]
  },
  {
   "cell_type": "code",
   "execution_count": 7,
   "metadata": {},
   "outputs": [
    {
     "name": "stdout",
     "output_type": "stream",
     "text": [
      "english JSON file written successfully!\n"
     ]
    }
   ],
   "source": [
    "# set the index of the dataframe to 'en' and 'parent_1'\n",
    "df_en = df_en.set_index(['parent_1', 'parent_2'])\n",
    "\n",
    "# stack the dataframe to create a multi-level index\n",
    "df_en = df_en.stack()\n",
    "\n",
    "# convert the resulting series to a dictionary\n",
    "result_dict = df_en.to_dict()\n",
    "\n",
    "# # create a new dictionary with the desired nested structure\n",
    "nested_dict = {}\n",
    "for key, value in result_dict.items():\n",
    "    key = key[:keys_len]\n",
    "    parent1, parent2 = key[0], key[1]\n",
    "    if parent1 not in nested_dict:\n",
    "        nested_dict[parent1] = {}\n",
    "    nested_dict[parent1][parent2] = value\n",
    "\n",
    "# Write the dictionary to a JSON file with 2-space indentation\n",
    "with open('../../i18n/en.json', 'w') as json_file:\n",
    "    json.dump(nested_dict, json_file, indent='\\t', ensure_ascii=False)\n",
    "print(\"english JSON file written successfully!\")"
   ]
  },
  {
   "cell_type": "code",
   "execution_count": 8,
   "metadata": {},
   "outputs": [
    {
     "name": "stdout",
     "output_type": "stream",
     "text": [
      "french JSON file written successfully!\n"
     ]
    }
   ],
   "source": [
    "# set the index of the dataframe to 'en' and 'parent_1'\n",
    "df_fr = df_fr.set_index(['parent_1', 'parent_2'])\n",
    "\n",
    "# stack the dataframe to create a multi-level index\n",
    "df_fr = df_fr.stack()\n",
    "\n",
    "# convert the resulting series to a dictionary\n",
    "result_dict = df_fr.to_dict()\n",
    "\n",
    "# # create a new dictionary with the desired nested structure\n",
    "nested_dict = {}\n",
    "for key, value in result_dict.items():\n",
    "    key = key[:keys_len]\n",
    "    parent1, parent2 = key[0], key[1]\n",
    "    if parent1 not in nested_dict:\n",
    "        nested_dict[parent1] = {}\n",
    "    nested_dict[parent1][parent2] = value\n",
    "\n",
    "# Write the dictionary to a JSON file with 2-space indentation\n",
    "with open('../../i18n/fr.json', 'w') as json_file:\n",
    "    json.dump(nested_dict, json_file, indent='\\t', ensure_ascii=False)\n",
    "print(\"french JSON file written successfully!\")"
   ]
  }
 ],
 "metadata": {
  "kernelspec": {
   "display_name": "Python 3 (ipykernel)",
   "language": "python",
   "name": "python3"
  },
  "language_info": {
   "codemirror_mode": {
    "name": "ipython",
    "version": 3
   },
   "file_extension": ".py",
   "mimetype": "text/x-python",
   "name": "python",
   "nbconvert_exporter": "python",
   "pygments_lexer": "ipython3",
   "version": "3.12.4"
  }
 },
 "nbformat": 4,
 "nbformat_minor": 4
}
